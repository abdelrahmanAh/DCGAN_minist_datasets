{
 "cells": [
  {
   "cell_type": "code",
   "execution_count": 1,
   "metadata": {},
   "outputs": [],
   "source": [
    "import torch\n",
    "from torch import nn\n",
    "from torch import optim\n",
    "import torchvision\n",
    "from torchvision import datasets\n",
    "from torchvision import transforms\n",
    "from torch.utils.data import DataLoader\n",
    "from torch.utils.tensorboard import SummaryWriter\n",
    "from model import Discriminator,Generator,initailize_weights\n",
    "from tqdm import tqdm"
   ]
  },
  {
   "cell_type": "code",
   "execution_count": 2,
   "metadata": {},
   "outputs": [],
   "source": [
    "device=torch.device('cuda' if torch.cuda.is_available else 'cpu')\n",
    "lr=2e-4\n",
    "batch_size=128\n",
    "image_size=64\n",
    "channels_img=1\n",
    "z_dim=100\n",
    "num_epochs=5\n",
    "features_dis=64\n",
    "features_gen=64\n",
    "transform=transforms.Compose(\n",
    "    [transforms.Resize(image_size),\n",
    "    transforms.ToTensor(),\n",
    "    transforms.Normalize([0.5 for _ in range(channels_img)],[0.5 for _ in range(channels_img)])]\n",
    "\n",
    ")"
   ]
  },
  {
   "cell_type": "code",
   "execution_count": 3,
   "metadata": {},
   "outputs": [],
   "source": [
    "dataset=datasets.MNIST(root='dataset/',train=True,transform=transform,download=True)"
   ]
  },
  {
   "cell_type": "code",
   "execution_count": 4,
   "metadata": {},
   "outputs": [],
   "source": [
    "loader=DataLoader(dataset,batch_size=batch_size,shuffle=True)"
   ]
  },
  {
   "cell_type": "code",
   "execution_count": 5,
   "metadata": {},
   "outputs": [],
   "source": [
    "gen=Generator(z_dim,channels_img,features_gen).to(device)\n",
    "disc=Discriminator(channels_img,features_dis).to(device)\n",
    "initailize_weights(gen)\n",
    "initailize_weights(disc)\n",
    "opt_gen=optim.Adam(gen.parameters(),lr=lr,betas=(0.5,0.999))\n",
    "opt_disc=optim.Adam(disc.parameters(),lr=lr,betas=(0.5,0.999))\n",
    "criterion=nn.BCELoss()\n",
    "fixed_noise=torch.randn(32,z_dim,1,1).to(device)\n",
    "writer_real=SummaryWriter(f\"logs/real\")\n",
    "writer_fake=SummaryWriter(f\"logs/fake\")\n",
    "step=0"
   ]
  },
  {
   "cell_type": "code",
   "execution_count": 6,
   "metadata": {},
   "outputs": [
    {
     "name": "stderr",
     "output_type": "stream",
     "text": [
      "100%|██████████| 469/469 [25:05<00:00,  3.21s/it]\n",
      "100%|██████████| 469/469 [24:47<00:00,  3.17s/it]\n",
      "100%|██████████| 469/469 [24:14<00:00,  3.10s/it]\n",
      "100%|██████████| 469/469 [24:14<00:00,  3.10s/it]\n",
      "100%|██████████| 469/469 [24:29<00:00,  3.13s/it]\n"
     ]
    }
   ],
   "source": [
    "gen.train()\n",
    "disc.train()\n",
    "for epoch in range(num_epochs):\n",
    "    for batch_idx,(real,_) in enumerate(tqdm(loader)):\n",
    "        real=real.to(device)\n",
    "        noise=torch.randn((batch_size,z_dim,1,1)).to(device)\n",
    "        fake=gen(noise)\n",
    "        ##train Discrimnator maxmize log(D(x))+log(1-D(G(Z)))\n",
    "        disc_real=disc(real).reshape(-1)\n",
    "        loss_disc_real=criterion(disc_real,torch.ones_like(disc_real))\n",
    "        disc_fake=disc(fake).reshape(-1)\n",
    "        loss_disc_fake=criterion(disc_fake,torch.zeros_like(disc_fake))\n",
    "        loss_disc=(loss_disc_real+loss_disc_fake)/2\n",
    "        disc.zero_grad()\n",
    "        loss_disc.backward(retain_graph=True)\n",
    "        opt_disc.step()\n",
    "        ##train generator min log(1-D(G(z))) -->the same --> max log(D(G(Z)))\n",
    "        output=disc(fake).reshape(-1)\n",
    "        loss_gen=criterion(output,torch.ones_like(output))\n",
    "        gen.zero_grad()\n",
    "        loss_gen.backward()\n",
    "        opt_gen.step()\n",
    "        if batch_idx==0:\n",
    "            with torch.no_grad():\n",
    "                fake=gen(fixed_noise)\n",
    "                \n",
    "                img_grid_fake=torchvision.utils.make_grid(fake[:32],normalize=True)\n",
    "                img_grid_real=torchvision.utils.make_grid(real[:32],normalize=True)\n",
    "\n",
    "                writer_fake.add_image(\n",
    "                    \"Fake Image each batch\",img_grid_fake,global_step=step\n",
    "                )\n",
    "                writer_real.add_image(\n",
    "                    \"real Image each batch\",img_grid_real,global_step=step\n",
    "                )\n",
    "                \n",
    "                step+=1"
   ]
  },
  {
   "cell_type": "code",
   "execution_count": 34,
   "metadata": {},
   "outputs": [],
   "source": [
    "#save gen\n",
    "torch.save(gen.state_dict(),'pre_trained_DCGAN_gen_2022-04-19.gz')"
   ]
  },
  {
   "cell_type": "code",
   "execution_count": 35,
   "metadata": {},
   "outputs": [],
   "source": [
    "#save disc\n",
    "torch.save(disc.state_dict(),'pre_trained_DCGAN_disc_2022-04-19.gz')"
   ]
  },
  {
   "cell_type": "code",
   "execution_count": 32,
   "metadata": {},
   "outputs": [
    {
     "data": {
      "text/plain": [
       "<matplotlib.image.AxesImage at 0x7fa5080e7490>"
      ]
     },
     "execution_count": 32,
     "metadata": {},
     "output_type": "execute_result"
    },
    {
     "data": {
      "image/png": "[encoded data removed]",
      "text/plain": [
       "<Figure size 432x288 with 1 Axes>"
      ]
     },
     "metadata": {
      "needs_background": "light"
     },
     "output_type": "display_data"
    }
   ],
   "source": [
    "import matplotlib.pyplot as plt\n",
    "n=torch.randn((1,z_dim,1,1))\n",
    "o=gen(n.to(device))\n",
    "plt.imshow(o.squeeze().detach().cpu())"
   ]
  },
  {
   "cell_type": "code",
   "execution_count": 29,
   "metadata": {},
   "outputs": [],
   "source": []
  },
  {
   "cell_type": "code",
   "execution_count": null,
   "metadata": {},
   "outputs": [],
   "source": []
  }
 ],
 "metadata": {
  "interpreter": {
   "hash": "14573bc850c37dd054bff5e2dba2b578486dd27d7465f3b3291bcc9f3fc93fca"
  },
  "kernelspec": {
   "display_name": "Python 3",
   "language": "python",
   "name": "python3"
  },
  "language_info": {
   "codemirror_mode": {
    "name": "ipython",
    "version": 3
   },
   "file_extension": ".py",
   "mimetype": "text/x-python",
   "name": "python",
   "nbconvert_exporter": "python",
   "pygments_lexer": "ipython3",
   "version": "3.7.4"
  }
 },
 "nbformat": 4,
 "nbformat_minor": 2
}
